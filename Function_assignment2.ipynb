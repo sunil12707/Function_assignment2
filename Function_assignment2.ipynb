{
  "nbformat": 4,
  "nbformat_minor": 0,
  "metadata": {
    "colab": {
      "provenance": []
    },
    "kernelspec": {
      "name": "python3",
      "display_name": "Python 3"
    },
    "language_info": {
      "name": "python"
    }
  },
  "cells": [
    {
      "cell_type": "code",
      "execution_count": null,
      "metadata": {
        "id": "BkR4lfYYgqV7"
      },
      "outputs": [],
      "source": []
    },
    {
      "cell_type": "markdown",
      "source": [
        "**Q1. Sort the given list of tuples based on integer value using a lambda function.**"
      ],
      "metadata": {
        "id": "BdDnQw2cgr_K"
      }
    },
    {
      "cell_type": "code",
      "source": [
        "# List of tuples\n",
        "data = [('Sachin Tendulkar', 34357), ('Ricky Ponting', 27483), ('Jack Kallis', 25534), ('Virat Kohli', 24936)]\n",
        "\n",
        "# Sorting the list of tuples based on integer value using a lambda function\n",
        "sorted_data = sorted(data, key=lambda x: x[1])\n",
        "\n",
        "# Printing the sorted list\n",
        "print(sorted_data)\n"
      ],
      "metadata": {
        "id": "jq9ej3FggrQe"
      },
      "execution_count": null,
      "outputs": []
    },
    {
      "cell_type": "markdown",
      "source": [
        "**Q2. Find the squares of all the numbers in the given list of integers using lambda and map functions.**"
      ],
      "metadata": {
        "id": "wbg45oy2g1hZ"
      }
    },
    {
      "cell_type": "code",
      "source": [
        "# List of integers\n",
        "numbers = [1, 2, 3, 4, 5, 6, 7, 8, 9, 10]\n",
        "\n",
        "# Finding squares using lambda and map functions\n",
        "squares = list(map(lambda x: x ** 2, numbers))\n",
        "\n",
        "# Printing the squares\n",
        "print(squares)\n"
      ],
      "metadata": {
        "id": "C9J7egb7grTG"
      },
      "execution_count": null,
      "outputs": []
    },
    {
      "cell_type": "markdown",
      "source": [
        "**Q3. Convert the given list of integers into a tuple of strings using map and lambda functions.**"
      ],
      "metadata": {
        "id": "V9l8Nr4Kg7w0"
      }
    },
    {
      "cell_type": "code",
      "source": [
        "# Given list of integers\n",
        "numbers = [1, 2, 3, 4, 5, 6, 7, 8, 9, 10]\n",
        "\n",
        "# Converting the list of integers into a tuple of strings using map and lambda functions\n",
        "tuple_of_strings = tuple(map(lambda x: str(x), numbers))\n",
        "\n",
        "# Printing the tuple of strings\n",
        "print(tuple_of_strings)\n"
      ],
      "metadata": {
        "id": "jWGu1c-VgrWR"
      },
      "execution_count": null,
      "outputs": []
    },
    {
      "cell_type": "markdown",
      "source": [
        "**Q4. Compute the product of a list containing numbers from 1 to 25 using the reduce function.**"
      ],
      "metadata": {
        "id": "DT1to1JNhADS"
      }
    },
    {
      "cell_type": "code",
      "source": [
        "# Importing the reduce function from functools module\n",
        "from functools import reduce\n",
        "\n",
        "# Creating a list containing numbers from 1 to 25\n",
        "numbers = list(range(1, 26))\n",
        "\n",
        "# Computing the product using the reduce function\n",
        "product = reduce(lambda x, y: x * y, numbers)\n",
        "\n",
        "# Printing the product\n",
        "print(product)\n"
      ],
      "metadata": {
        "id": "Imk1JTNZgrZ0"
      },
      "execution_count": null,
      "outputs": []
    },
    {
      "cell_type": "markdown",
      "source": [
        "** Q5. Filter the numbers in a given list that are divisible by 2 and 3 using the filter function.**"
      ],
      "metadata": {
        "id": "Esrb_T_FhJru"
      }
    },
    {
      "cell_type": "code",
      "source": [
        "# Given list of numbers\n",
        "numbers = [2, 3, 6, 9, 27, 60, 90, 120, 55, 46]\n",
        "\n",
        "# Filtering numbers divisible by 2 and 3 using the filter function\n",
        "filtered_numbers = list(filter(lambda x: x % 2 == 0 and x % 3 == 0, numbers))\n",
        "\n",
        "# Printing the filtered numbers\n",
        "print(filtered_numbers)\n"
      ],
      "metadata": {
        "id": "0x9g9aVGhIo5"
      },
      "execution_count": null,
      "outputs": []
    },
    {
      "cell_type": "markdown",
      "source": [
        "**Q6. Find palindromes in the given list of strings using lambda and filter function.**"
      ],
      "metadata": {
        "id": "fcOC2kRBhThe"
      }
    },
    {
      "cell_type": "code",
      "source": [
        "# Given list of strings\n",
        "strings = ['python', 'php', 'aba', 'radar', 'level']\n",
        "\n",
        "# Filtering palindromes using lambda and filter function\n",
        "palindromes = list(filter(lambda x: x == x[::-1], strings))\n",
        "\n",
        "# Printing the palindromes\n",
        "print(palindromes)\n"
      ],
      "metadata": {
        "id": "122SBBvuhIr0"
      },
      "execution_count": null,
      "outputs": []
    },
    {
      "cell_type": "code",
      "source": [],
      "metadata": {
        "id": "1-4JS1BBhIut"
      },
      "execution_count": null,
      "outputs": []
    },
    {
      "cell_type": "code",
      "source": [],
      "metadata": {
        "id": "O2jEgwz7hIyR"
      },
      "execution_count": null,
      "outputs": []
    }
  ]
}